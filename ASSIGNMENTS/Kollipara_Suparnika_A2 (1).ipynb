{
 "cells": [
  {
   "cell_type": "markdown",
   "metadata": {},
   "source": [
    "<a href='https://www.hexnbit.com/'> <img src='hexnbit.png'/> </a>"
   ]
  },
  {
   "cell_type": "markdown",
   "metadata": {},
   "source": [
    "# A1_Assignment"
   ]
  },
  {
   "cell_type": "markdown",
   "metadata": {},
   "source": [
    "Mentioned below are the tasks, the solution for each tasks has to be appended by inserting a new cell below the task,\n",
    "along with the following description:-\n",
    "1. Why the method was used (if applicable)\n",
    "2. Explanation of logic"
   ]
  },
  {
   "cell_type": "markdown",
   "metadata": {},
   "source": [
    "### Task1\n",
    "\n",
    "- Convert all characters of the word \"PYTHON\" to its decimal equivalent and then store them.\n",
    "- Convert all the decimal equvalents back to characters \n",
    "\n",
    "**Hint:** Built in functions to do so are there to perform this task\n",
    "Refer https://docs.python.org/3/library/functions.html"
   ]
  },
  {
   "cell_type": "code",
   "execution_count": 4,
   "metadata": {},
   "outputs": [
    {
     "name": "stdout",
     "output_type": "stream",
     "text": [
      "[80, 89, 84, 72, 79, 78]\n",
      "PYTHON\n"
     ]
    }
   ],
   "source": [
    "a=\"PYTHON\"\n",
    "b=[]             # the array b[] is used to store the decimal equivalents of the corresponding letters in str\n",
    "c=\"\"\n",
    "for i in a:      # here i refers to each letter in the string \"a\"\n",
    "    b.append(ord(i))      #ord() is a built-in function which will convert the character into decimal equivalent.\n",
    "print(b)\n",
    "for i in b:               # converting decimals to characters\n",
    "    c=c + chr(i)          # chr() function is opposite to ord(), We are appending each converted decimal(char) to the empty str \"c\"\n",
    "print(c)\n",
    "    "
   ]
  },
  {
   "cell_type": "markdown",
   "metadata": {},
   "source": [
    "### Task2\n",
    "- Raise 2 to the power 10"
   ]
  },
  {
   "cell_type": "code",
   "execution_count": 5,
   "metadata": {},
   "outputs": [
    {
     "name": "stdout",
     "output_type": "stream",
     "text": [
      "1024\n"
     ]
    }
   ],
   "source": [
    "print(2**10)   # ** is used to raise the power of a number."
   ]
  },
  {
   "cell_type": "markdown",
   "metadata": {},
   "source": [
    "### Task3\n",
    "\n",
    "- From the given list, starting from Japan, print alternate elements\n",
    "- From the given list, print element at indexes 1,4,5,8 (**Hint**: Use for loop or list comprehension)"
   ]
  },
  {
   "cell_type": "code",
   "execution_count": 7,
   "metadata": {},
   "outputs": [],
   "source": [
    "# Task 3\n",
    "list1=[\"India\", \"Japan\",\"Singapore\",\"China\",\"Australia\",\"Africa\",\"Dubai\",\"France\",\"Italy\",\"Germany\"]"
   ]
  },
  {
   "cell_type": "code",
   "execution_count": 8,
   "metadata": {},
   "outputs": [
    {
     "name": "stdout",
     "output_type": "stream",
     "text": [
      "['India', 'Singapore', 'Australia', 'Dubai', 'Italy']\n"
     ]
    }
   ],
   "source": [
    "print(list1[::2])  # Slicing is the easiest way to perform the operations like this. slice[x:y:z], here x refers to the \n",
    "                   #starting index,y refers to ending index+1, z refers to increment.if we haven't given x,y it will take 0,len(list1) respectively."
   ]
  },
  {
   "cell_type": "code",
   "execution_count": 9,
   "metadata": {},
   "outputs": [
    {
     "name": "stdout",
     "output_type": "stream",
     "text": [
      "Japan\n",
      "Australia\n",
      "Africa\n",
      "Italy\n"
     ]
    }
   ],
   "source": [
    "for i in [1,4,5,8]:  # here i refers to 1 in loop1, 4 in loop2 and so on.\n",
    "    print(list1[i])"
   ]
  },
  {
   "cell_type": "markdown",
   "metadata": {},
   "source": [
    "### Task4\n",
    "\n",
    "- From the given list, extract the \"Hex\" and print it"
   ]
  },
  {
   "cell_type": "code",
   "execution_count": 10,
   "metadata": {},
   "outputs": [],
   "source": [
    "# Task 4\n",
    "list2=[22,[4, [True, False], 6, 8], [888, 999,[111,222,[\"Hex\"]]] ]"
   ]
  },
  {
   "cell_type": "code",
   "execution_count": 11,
   "metadata": {},
   "outputs": [
    {
     "name": "stdout",
     "output_type": "stream",
     "text": [
      "Hex\n"
     ]
    }
   ],
   "source": [
    "# hex is the third element in list2(index=2),so we used list[2],but list[2] is again a list and \n",
    "#hex is at index 2 so list[2][2], and list[2][2] is also a list in which hex is at index 2,\n",
    "#so it is list[2][2][2], this list[2][2][2] is a list with one element hex, so list[2][2][2][0] is our destination.\n",
    "p=list2[2][2][2][0]  \n",
    "print(p)"
   ]
  },
  {
   "cell_type": "markdown",
   "metadata": {},
   "source": [
    "### Task5\n",
    "\n",
    "- From the given dictionary, fetch the keyword \"TOPD\""
   ]
  },
  {
   "cell_type": "code",
   "execution_count": 12,
   "metadata": {},
   "outputs": [],
   "source": [
    "# Task 5\n",
    "dict1={\"Tevatron\":[\"Technologies\",\"Pvt\",\"Ltd\",{\"Domains\":[\"Embedded\",\"IoT\",\"AI\",\"ML\"],\"Projects\":[\"inhouse\",\"TOPD\"]}]}"
   ]
  },
  {
   "cell_type": "code",
   "execution_count": 14,
   "metadata": {},
   "outputs": [
    {
     "name": "stdout",
     "output_type": "stream",
     "text": [
      "TOPD\n"
     ]
    }
   ],
   "source": [
    "# We are using the same traversing technique we have done in task 4.\n",
    "f=dict1[\"Tevatron\"][3][\"Projects\"][1]\n",
    "print(f)"
   ]
  },
  {
   "cell_type": "markdown",
   "metadata": {},
   "source": [
    "### Task6\n",
    "There are 3 height categories\n",
    "\n",
    "**167 and below  =**    Short <br>\n",
    "**168 to 182     =**    Average <br>\n",
    "**182 and above  =**    Tall<br>\n",
    "\n",
    "Write a programe which gets the input from user and prints if the category the person fits in\n",
    "\n",
    "**Hint**: Use function input()"
   ]
  },
  {
   "cell_type": "code",
   "execution_count": 20,
   "metadata": {},
   "outputs": [
    {
     "name": "stdout",
     "output_type": "stream",
     "text": [
      "150\n",
      "Short\n"
     ]
    }
   ],
   "source": [
    "height=int(input())\n",
    "if height>0 and height<=167:\n",
    "    print(\"Short\")\n",
    "elif height>167 and height<182:\n",
    "    print(\"Average\")\n",
    "elif height>=182:\n",
    "    print(\"Tall\")"
   ]
  },
  {
   "cell_type": "markdown",
   "metadata": {},
   "source": [
    "### Task7\n",
    "\n",
    "Using maximum 2 lines of code, generate all upper case alphabets\n",
    "\n",
    "**Hint**: Refer ASCII Table"
   ]
  },
  {
   "cell_type": "code",
   "execution_count": 21,
   "metadata": {},
   "outputs": [
    {
     "name": "stdout",
     "output_type": "stream",
     "text": [
      "A\n",
      "B\n",
      "C\n",
      "D\n",
      "E\n",
      "F\n",
      "G\n",
      "H\n",
      "I\n",
      "J\n",
      "K\n",
      "L\n",
      "M\n",
      "N\n",
      "O\n",
      "P\n",
      "Q\n",
      "R\n",
      "S\n",
      "T\n",
      "U\n",
      "V\n",
      "W\n",
      "X\n",
      "Y\n",
      "Z\n"
     ]
    }
   ],
   "source": [
    "for i in range(65,91):# Decimal value of A is 65 and Z is 90.\n",
    "    print(chr(i))     #chr() will convert decimal value to character."
   ]
  },
  {
   "cell_type": "markdown",
   "metadata": {},
   "source": [
    "### Task8\n",
    "\n",
    "Generate integers between (100 and 200) both inclusive, using NumPy"
   ]
  },
  {
   "cell_type": "code",
   "execution_count": 3,
   "metadata": {},
   "outputs": [
    {
     "name": "stdout",
     "output_type": "stream",
     "text": [
      "[100 101 102 103 104 105 106 107 108 109 110 111 112 113 114 115 116 117\n",
      " 118 119 120 121 122 123 124 125 126 127 128 129 130 131 132 133 134 135\n",
      " 136 137 138 139 140 141 142 143 144 145 146 147 148 149 150 151 152 153\n",
      " 154 155 156 157 158 159 160 161 162 163 164 165 166 167 168 169 170 171\n",
      " 172 173 174 175 176 177 178 179 180 181 182 183 184 185 186 187 188 189\n",
      " 190 191 192 193 194 195 196 197 198 199 200]\n"
     ]
    }
   ],
   "source": [
    "import numpy as np\n",
    "arr=np.arange(100,201) # arange() will create integers based on the range given and store it in a 1-D array\n",
    "print(arr)"
   ]
  },
  {
   "cell_type": "markdown",
   "metadata": {},
   "source": [
    "### Task9\n",
    "\n",
    "Print all even integers from the array created in Task8"
   ]
  },
  {
   "cell_type": "code",
   "execution_count": 5,
   "metadata": {},
   "outputs": [
    {
     "name": "stdout",
     "output_type": "stream",
     "text": [
      "[100 102 104 106 108 110 112 114 116 118 120 122 124 126 128 130 132 134\n",
      " 136 138 140 142 144 146 148 150 152 154 156 158 160 162 164 166 168 170\n",
      " 172 174 176 178 180 182 184 186 188 190 192 194 196 198 200]\n"
     ]
    }
   ],
   "source": [
    "list2=(arr%2==0)\n",
    "print(arr[list2])"
   ]
  },
  {
   "cell_type": "markdown",
   "metadata": {},
   "source": [
    "### Task10\n",
    "\n",
    "Print all 100 values from Standard Normal Distribution"
   ]
  },
  {
   "cell_type": "code",
   "execution_count": 31,
   "metadata": {},
   "outputs": [
    {
     "name": "stdout",
     "output_type": "stream",
     "text": [
      "[ 0.48569364 -0.39308713 -1.68784196  0.10008742 -1.21661637  0.34436706\n",
      " -0.88641331  1.8046806   1.17608354  0.02815647 -1.25360155  1.55918813\n",
      "  3.4798274   1.32901567  0.34245991 -0.12273196 -0.89464144  0.98289363\n",
      "  0.14445968 -0.00619162 -0.86007331  0.16608182 -0.24549833  0.12940477\n",
      " -0.37758064 -0.79650152  0.15206596  0.00394492  0.05721532  0.05911468\n",
      " -1.22505346 -0.14240714 -0.06482656 -0.77249761 -0.31887774  1.69003548\n",
      " -0.52266078  0.03949852  0.3567293   0.98670153 -0.45331305  0.39122591\n",
      " -2.64299024  0.65871236 -0.49123042 -0.05534916 -0.87961357 -2.34395657\n",
      "  1.29470695 -1.90057671 -0.21593063 -0.71644064 -0.22891664 -0.52060325\n",
      " -0.80305744  0.06366419  0.73172269  0.04379892  1.12186557 -0.22050021\n",
      " -0.79208285 -0.17161721  0.60720476  0.85914851 -0.6836303  -0.82000864\n",
      " -0.10529476  0.1953116   0.33102725 -0.09989016 -0.50664025  1.89913956\n",
      " -0.92328167  0.08771962 -1.2254899   0.4754441   0.78635973 -2.65787156\n",
      " -1.1990609   0.99806814 -0.65978875  0.23765359  0.6109216  -0.00784267\n",
      " -0.72382278 -1.09242741  0.49999559 -0.1826838   1.06590872  0.45111387\n",
      " -0.02599501 -1.13267119 -0.13727064  1.15945956 -0.14310427 -0.68475937\n",
      "  0.22002867  0.01348062 -0.70148038 -1.61704061]\n"
     ]
    }
   ],
   "source": [
    "snd=np.random.normal(size=100)\n",
    "print(snd)"
   ]
  },
  {
   "cell_type": "markdown",
   "metadata": {},
   "source": [
    "### Task11\n",
    "\n",
    "Create a NumPy array of random number, whose dimension attribute is equal to 4"
   ]
  },
  {
   "cell_type": "code",
   "execution_count": 12,
   "metadata": {},
   "outputs": [
    {
     "name": "stdout",
     "output_type": "stream",
     "text": [
      "[[[[ 7 18 25]\n",
      "   [32 40 43]\n",
      "   [20 13  3]]\n",
      "\n",
      "  [[ 5  6 10]\n",
      "   [45 33  7]\n",
      "   [23 37 40]]\n",
      "\n",
      "  [[26 42  2]\n",
      "   [ 2  1 36]\n",
      "   [28 31 41]]]\n",
      "\n",
      "\n",
      " [[[44 37 14]\n",
      "   [13 48 45]\n",
      "   [16 14 10]]\n",
      "\n",
      "  [[10 19 12]\n",
      "   [37 32 40]\n",
      "   [27 40 10]]\n",
      "\n",
      "  [[27 35  1]\n",
      "   [39  5  2]\n",
      "   [ 2 36 34]]]\n",
      "\n",
      "\n",
      " [[[10 32 23]\n",
      "   [15 45  6]\n",
      "   [45  9 36]]\n",
      "\n",
      "  [[46 44 16]\n",
      "   [48  1  2]\n",
      "   [38  4 13]]\n",
      "\n",
      "  [[24  2 48]\n",
      "   [ 6 32 28]\n",
      "   [39 43 10]]]]\n",
      "4\n"
     ]
    }
   ],
   "source": [
    "arr1=np.random.randint(1,50,81).reshape(3,3,3,3) #3^4 is 81 so we used 81 as the no.of elements.\n",
    "print(arr1)\n",
    "print(arr1.ndim)# output is 4 as the dimension of matrix is 4."
   ]
  },
  {
   "cell_type": "markdown",
   "metadata": {},
   "source": [
    "### Task12\n",
    "\n",
    "Create an NumPy array of 100 values evenly spaced between 10 and 20"
   ]
  },
  {
   "cell_type": "code",
   "execution_count": 13,
   "metadata": {},
   "outputs": [
    {
     "name": "stdout",
     "output_type": "stream",
     "text": [
      "[10.         10.1010101  10.2020202  10.3030303  10.4040404  10.50505051\n",
      " 10.60606061 10.70707071 10.80808081 10.90909091 11.01010101 11.11111111\n",
      " 11.21212121 11.31313131 11.41414141 11.51515152 11.61616162 11.71717172\n",
      " 11.81818182 11.91919192 12.02020202 12.12121212 12.22222222 12.32323232\n",
      " 12.42424242 12.52525253 12.62626263 12.72727273 12.82828283 12.92929293\n",
      " 13.03030303 13.13131313 13.23232323 13.33333333 13.43434343 13.53535354\n",
      " 13.63636364 13.73737374 13.83838384 13.93939394 14.04040404 14.14141414\n",
      " 14.24242424 14.34343434 14.44444444 14.54545455 14.64646465 14.74747475\n",
      " 14.84848485 14.94949495 15.05050505 15.15151515 15.25252525 15.35353535\n",
      " 15.45454545 15.55555556 15.65656566 15.75757576 15.85858586 15.95959596\n",
      " 16.06060606 16.16161616 16.26262626 16.36363636 16.46464646 16.56565657\n",
      " 16.66666667 16.76767677 16.86868687 16.96969697 17.07070707 17.17171717\n",
      " 17.27272727 17.37373737 17.47474747 17.57575758 17.67676768 17.77777778\n",
      " 17.87878788 17.97979798 18.08080808 18.18181818 18.28282828 18.38383838\n",
      " 18.48484848 18.58585859 18.68686869 18.78787879 18.88888889 18.98989899\n",
      " 19.09090909 19.19191919 19.29292929 19.39393939 19.49494949 19.5959596\n",
      " 19.6969697  19.7979798  19.8989899  20.        ]\n"
     ]
    }
   ],
   "source": [
    "arr3=np.linspace(10,20,100)\n",
    "print(arr3)"
   ]
  },
  {
   "cell_type": "markdown",
   "metadata": {},
   "source": [
    "### Task13\n",
    "\n",
    "Create a NumPy array of shape 5x5 and print the last 3 rows"
   ]
  },
  {
   "cell_type": "code",
   "execution_count": 33,
   "metadata": {},
   "outputs": [
    {
     "name": "stdout",
     "output_type": "stream",
     "text": [
      "[[38 34 25 17 10]\n",
      " [43 45  2 27 20]\n",
      " [33 31 44 14 27]\n",
      " [35 33 26 39  8]\n",
      " [23 29 33 32 18]]\n",
      "\n",
      " [[33 31 44 14 27]\n",
      " [35 33 26 39  8]\n",
      " [23 29 33 32 18]]\n"
     ]
    }
   ],
   "source": [
    "arr4=np.random.randint(1,50,size=(5,5))\n",
    "print(arr4)\n",
    "print(\"\\n\",arr4[2:5])"
   ]
  },
  {
   "cell_type": "markdown",
   "metadata": {},
   "source": [
    "### Task14\n",
    "\n",
    "Using the array created above in Task13, Print the first 2 columns"
   ]
  },
  {
   "cell_type": "code",
   "execution_count": 17,
   "metadata": {},
   "outputs": [
    {
     "name": "stdout",
     "output_type": "stream",
     "text": [
      "[[39 32  8 40 33]\n",
      " [41  4 32 23 35]]\n"
     ]
    }
   ],
   "source": [
    "print(arr4[0:2])"
   ]
  },
  {
   "cell_type": "markdown",
   "metadata": {},
   "source": [
    "### Task15\n",
    "\n",
    "Create an array of 25 random values\n",
    "- Find the sum of all elements\n",
    "- Print the element with maximum value and minimum value"
   ]
  },
  {
   "cell_type": "code",
   "execution_count": 19,
   "metadata": {},
   "outputs": [
    {
     "name": "stdout",
     "output_type": "stream",
     "text": [
      "[ 1  8 54 49 93  1 16 66 59 32 69 38 15 75 76 56 12  2 55 91 22 89 13 69\n",
      " 61]\n",
      "1122\n",
      "93\n",
      "1\n"
     ]
    }
   ],
   "source": [
    "arr5=np.random.randint(1,100,25)\n",
    "print(arr5)\n",
    "print(arr5.sum())\n",
    "print(arr5.max())\n",
    "print(arr5.min())"
   ]
  },
  {
   "cell_type": "markdown",
   "metadata": {},
   "source": [
    "### Task16\n",
    "\n",
    "In the array created above, print columns with indexes 1,3,4 without directly indexing them <br>\n",
    "**Hint:** Make use of another list for indexing"
   ]
  },
  {
   "cell_type": "code",
   "execution_count": 30,
   "metadata": {},
   "outputs": [
    {
     "name": "stdout",
     "output_type": "stream",
     "text": [
      "[ 8 49 93]\n"
     ]
    }
   ],
   "source": [
    "l1=[1,3,4]\n",
    "print(arr5[l1])"
   ]
  },
  {
   "cell_type": "markdown",
   "metadata": {},
   "source": [
    "### Task17\n",
    "Read car_sales.csv"
   ]
  },
  {
   "cell_type": "code",
   "execution_count": 19,
   "metadata": {},
   "outputs": [],
   "source": [
    "import pandas as pd\n",
    "car_data=pd.read_csv(\"car_sales.csv\")\n"
   ]
  },
  {
   "cell_type": "code",
   "execution_count": 20,
   "metadata": {},
   "outputs": [
    {
     "data": {
      "text/html": [
       "<div>\n",
       "<style scoped>\n",
       "    .dataframe tbody tr th:only-of-type {\n",
       "        vertical-align: middle;\n",
       "    }\n",
       "\n",
       "    .dataframe tbody tr th {\n",
       "        vertical-align: top;\n",
       "    }\n",
       "\n",
       "    .dataframe thead th {\n",
       "        text-align: right;\n",
       "    }\n",
       "</style>\n",
       "<table border=\"1\" class=\"dataframe\">\n",
       "  <thead>\n",
       "    <tr style=\"text-align: right;\">\n",
       "      <th></th>\n",
       "      <th>Unnamed: 0</th>\n",
       "      <th>Manufacturer</th>\n",
       "      <th>Model</th>\n",
       "      <th>Type</th>\n",
       "      <th>Min.Price</th>\n",
       "      <th>Price</th>\n",
       "      <th>Max.Price</th>\n",
       "      <th>MPG.city</th>\n",
       "      <th>MPG.highway</th>\n",
       "      <th>AirBags</th>\n",
       "      <th>...</th>\n",
       "      <th>Passengers</th>\n",
       "      <th>Length</th>\n",
       "      <th>Wheelbase</th>\n",
       "      <th>Width</th>\n",
       "      <th>Turn.circle</th>\n",
       "      <th>Rear.seat.room</th>\n",
       "      <th>Luggage.room</th>\n",
       "      <th>Weight</th>\n",
       "      <th>Origin</th>\n",
       "      <th>Make</th>\n",
       "    </tr>\n",
       "  </thead>\n",
       "  <tbody>\n",
       "    <tr>\n",
       "      <th>0</th>\n",
       "      <td>1</td>\n",
       "      <td>Acura</td>\n",
       "      <td>Integra</td>\n",
       "      <td>Small</td>\n",
       "      <td>12.9</td>\n",
       "      <td>15.9</td>\n",
       "      <td>18.8</td>\n",
       "      <td>25</td>\n",
       "      <td>31</td>\n",
       "      <td>None</td>\n",
       "      <td>...</td>\n",
       "      <td>5</td>\n",
       "      <td>177</td>\n",
       "      <td>102</td>\n",
       "      <td>68</td>\n",
       "      <td>37</td>\n",
       "      <td>26.5</td>\n",
       "      <td>11.0</td>\n",
       "      <td>2705</td>\n",
       "      <td>non-USA</td>\n",
       "      <td>Acura Integra</td>\n",
       "    </tr>\n",
       "    <tr>\n",
       "      <th>1</th>\n",
       "      <td>2</td>\n",
       "      <td>Acura</td>\n",
       "      <td>Legend</td>\n",
       "      <td>Midsize</td>\n",
       "      <td>29.2</td>\n",
       "      <td>33.9</td>\n",
       "      <td>38.7</td>\n",
       "      <td>18</td>\n",
       "      <td>25</td>\n",
       "      <td>Driver &amp; Passenger</td>\n",
       "      <td>...</td>\n",
       "      <td>5</td>\n",
       "      <td>195</td>\n",
       "      <td>115</td>\n",
       "      <td>71</td>\n",
       "      <td>38</td>\n",
       "      <td>30.0</td>\n",
       "      <td>15.0</td>\n",
       "      <td>3560</td>\n",
       "      <td>non-USA</td>\n",
       "      <td>Acura Legend</td>\n",
       "    </tr>\n",
       "    <tr>\n",
       "      <th>2</th>\n",
       "      <td>3</td>\n",
       "      <td>Audi</td>\n",
       "      <td>90</td>\n",
       "      <td>Compact</td>\n",
       "      <td>25.9</td>\n",
       "      <td>29.1</td>\n",
       "      <td>32.3</td>\n",
       "      <td>20</td>\n",
       "      <td>26</td>\n",
       "      <td>Driver only</td>\n",
       "      <td>...</td>\n",
       "      <td>5</td>\n",
       "      <td>180</td>\n",
       "      <td>102</td>\n",
       "      <td>67</td>\n",
       "      <td>37</td>\n",
       "      <td>28.0</td>\n",
       "      <td>14.0</td>\n",
       "      <td>3375</td>\n",
       "      <td>non-USA</td>\n",
       "      <td>Audi 90</td>\n",
       "    </tr>\n",
       "    <tr>\n",
       "      <th>3</th>\n",
       "      <td>4</td>\n",
       "      <td>Audi</td>\n",
       "      <td>100</td>\n",
       "      <td>Midsize</td>\n",
       "      <td>30.8</td>\n",
       "      <td>37.7</td>\n",
       "      <td>44.6</td>\n",
       "      <td>19</td>\n",
       "      <td>26</td>\n",
       "      <td>Driver &amp; Passenger</td>\n",
       "      <td>...</td>\n",
       "      <td>6</td>\n",
       "      <td>193</td>\n",
       "      <td>106</td>\n",
       "      <td>70</td>\n",
       "      <td>37</td>\n",
       "      <td>31.0</td>\n",
       "      <td>17.0</td>\n",
       "      <td>3405</td>\n",
       "      <td>non-USA</td>\n",
       "      <td>Audi 100</td>\n",
       "    </tr>\n",
       "    <tr>\n",
       "      <th>4</th>\n",
       "      <td>5</td>\n",
       "      <td>BMW</td>\n",
       "      <td>535i</td>\n",
       "      <td>Midsize</td>\n",
       "      <td>23.7</td>\n",
       "      <td>30.0</td>\n",
       "      <td>36.2</td>\n",
       "      <td>22</td>\n",
       "      <td>30</td>\n",
       "      <td>Driver only</td>\n",
       "      <td>...</td>\n",
       "      <td>4</td>\n",
       "      <td>186</td>\n",
       "      <td>109</td>\n",
       "      <td>69</td>\n",
       "      <td>39</td>\n",
       "      <td>27.0</td>\n",
       "      <td>13.0</td>\n",
       "      <td>3640</td>\n",
       "      <td>non-USA</td>\n",
       "      <td>BMW 535i</td>\n",
       "    </tr>\n",
       "    <tr>\n",
       "      <th>...</th>\n",
       "      <td>...</td>\n",
       "      <td>...</td>\n",
       "      <td>...</td>\n",
       "      <td>...</td>\n",
       "      <td>...</td>\n",
       "      <td>...</td>\n",
       "      <td>...</td>\n",
       "      <td>...</td>\n",
       "      <td>...</td>\n",
       "      <td>...</td>\n",
       "      <td>...</td>\n",
       "      <td>...</td>\n",
       "      <td>...</td>\n",
       "      <td>...</td>\n",
       "      <td>...</td>\n",
       "      <td>...</td>\n",
       "      <td>...</td>\n",
       "      <td>...</td>\n",
       "      <td>...</td>\n",
       "      <td>...</td>\n",
       "      <td>...</td>\n",
       "    </tr>\n",
       "    <tr>\n",
       "      <th>88</th>\n",
       "      <td>89</td>\n",
       "      <td>Volkswagen</td>\n",
       "      <td>Eurovan</td>\n",
       "      <td>Van</td>\n",
       "      <td>16.6</td>\n",
       "      <td>19.7</td>\n",
       "      <td>22.7</td>\n",
       "      <td>17</td>\n",
       "      <td>21</td>\n",
       "      <td>None</td>\n",
       "      <td>...</td>\n",
       "      <td>7</td>\n",
       "      <td>187</td>\n",
       "      <td>115</td>\n",
       "      <td>72</td>\n",
       "      <td>38</td>\n",
       "      <td>34.0</td>\n",
       "      <td>NaN</td>\n",
       "      <td>3960</td>\n",
       "      <td>non-USA</td>\n",
       "      <td>Volkswagen Eurovan</td>\n",
       "    </tr>\n",
       "    <tr>\n",
       "      <th>89</th>\n",
       "      <td>90</td>\n",
       "      <td>Volkswagen</td>\n",
       "      <td>Passat</td>\n",
       "      <td>Compact</td>\n",
       "      <td>17.6</td>\n",
       "      <td>20.0</td>\n",
       "      <td>22.4</td>\n",
       "      <td>21</td>\n",
       "      <td>30</td>\n",
       "      <td>None</td>\n",
       "      <td>...</td>\n",
       "      <td>5</td>\n",
       "      <td>180</td>\n",
       "      <td>103</td>\n",
       "      <td>67</td>\n",
       "      <td>35</td>\n",
       "      <td>31.5</td>\n",
       "      <td>14.0</td>\n",
       "      <td>2985</td>\n",
       "      <td>non-USA</td>\n",
       "      <td>Volkswagen Passat</td>\n",
       "    </tr>\n",
       "    <tr>\n",
       "      <th>90</th>\n",
       "      <td>91</td>\n",
       "      <td>Volkswagen</td>\n",
       "      <td>Corrado</td>\n",
       "      <td>Sporty</td>\n",
       "      <td>22.9</td>\n",
       "      <td>23.3</td>\n",
       "      <td>23.7</td>\n",
       "      <td>18</td>\n",
       "      <td>25</td>\n",
       "      <td>None</td>\n",
       "      <td>...</td>\n",
       "      <td>4</td>\n",
       "      <td>159</td>\n",
       "      <td>97</td>\n",
       "      <td>66</td>\n",
       "      <td>36</td>\n",
       "      <td>26.0</td>\n",
       "      <td>15.0</td>\n",
       "      <td>2810</td>\n",
       "      <td>non-USA</td>\n",
       "      <td>Volkswagen Corrado</td>\n",
       "    </tr>\n",
       "    <tr>\n",
       "      <th>91</th>\n",
       "      <td>92</td>\n",
       "      <td>Volvo</td>\n",
       "      <td>240</td>\n",
       "      <td>Compact</td>\n",
       "      <td>21.8</td>\n",
       "      <td>22.7</td>\n",
       "      <td>23.5</td>\n",
       "      <td>21</td>\n",
       "      <td>28</td>\n",
       "      <td>Driver only</td>\n",
       "      <td>...</td>\n",
       "      <td>5</td>\n",
       "      <td>190</td>\n",
       "      <td>104</td>\n",
       "      <td>67</td>\n",
       "      <td>37</td>\n",
       "      <td>29.5</td>\n",
       "      <td>14.0</td>\n",
       "      <td>2985</td>\n",
       "      <td>non-USA</td>\n",
       "      <td>Volvo 240</td>\n",
       "    </tr>\n",
       "    <tr>\n",
       "      <th>92</th>\n",
       "      <td>93</td>\n",
       "      <td>Volvo</td>\n",
       "      <td>850</td>\n",
       "      <td>Midsize</td>\n",
       "      <td>24.8</td>\n",
       "      <td>26.7</td>\n",
       "      <td>28.5</td>\n",
       "      <td>20</td>\n",
       "      <td>28</td>\n",
       "      <td>Driver &amp; Passenger</td>\n",
       "      <td>...</td>\n",
       "      <td>5</td>\n",
       "      <td>184</td>\n",
       "      <td>105</td>\n",
       "      <td>69</td>\n",
       "      <td>38</td>\n",
       "      <td>30.0</td>\n",
       "      <td>15.0</td>\n",
       "      <td>3245</td>\n",
       "      <td>non-USA</td>\n",
       "      <td>Volvo 850</td>\n",
       "    </tr>\n",
       "  </tbody>\n",
       "</table>\n",
       "<p>93 rows × 28 columns</p>\n",
       "</div>"
      ],
      "text/plain": [
       "    Unnamed: 0 Manufacturer    Model     Type  Min.Price  Price  Max.Price  \\\n",
       "0            1        Acura  Integra    Small       12.9   15.9       18.8   \n",
       "1            2        Acura   Legend  Midsize       29.2   33.9       38.7   \n",
       "2            3         Audi       90  Compact       25.9   29.1       32.3   \n",
       "3            4         Audi      100  Midsize       30.8   37.7       44.6   \n",
       "4            5          BMW     535i  Midsize       23.7   30.0       36.2   \n",
       "..         ...          ...      ...      ...        ...    ...        ...   \n",
       "88          89   Volkswagen  Eurovan      Van       16.6   19.7       22.7   \n",
       "89          90   Volkswagen   Passat  Compact       17.6   20.0       22.4   \n",
       "90          91   Volkswagen  Corrado   Sporty       22.9   23.3       23.7   \n",
       "91          92        Volvo      240  Compact       21.8   22.7       23.5   \n",
       "92          93        Volvo      850  Midsize       24.8   26.7       28.5   \n",
       "\n",
       "    MPG.city  MPG.highway             AirBags  ... Passengers Length  \\\n",
       "0         25           31                None  ...          5    177   \n",
       "1         18           25  Driver & Passenger  ...          5    195   \n",
       "2         20           26         Driver only  ...          5    180   \n",
       "3         19           26  Driver & Passenger  ...          6    193   \n",
       "4         22           30         Driver only  ...          4    186   \n",
       "..       ...          ...                 ...  ...        ...    ...   \n",
       "88        17           21                None  ...          7    187   \n",
       "89        21           30                None  ...          5    180   \n",
       "90        18           25                None  ...          4    159   \n",
       "91        21           28         Driver only  ...          5    190   \n",
       "92        20           28  Driver & Passenger  ...          5    184   \n",
       "\n",
       "    Wheelbase  Width  Turn.circle  Rear.seat.room Luggage.room  Weight  \\\n",
       "0         102     68           37            26.5         11.0    2705   \n",
       "1         115     71           38            30.0         15.0    3560   \n",
       "2         102     67           37            28.0         14.0    3375   \n",
       "3         106     70           37            31.0         17.0    3405   \n",
       "4         109     69           39            27.0         13.0    3640   \n",
       "..        ...    ...          ...             ...          ...     ...   \n",
       "88        115     72           38            34.0          NaN    3960   \n",
       "89        103     67           35            31.5         14.0    2985   \n",
       "90         97     66           36            26.0         15.0    2810   \n",
       "91        104     67           37            29.5         14.0    2985   \n",
       "92        105     69           38            30.0         15.0    3245   \n",
       "\n",
       "     Origin                Make  \n",
       "0   non-USA       Acura Integra  \n",
       "1   non-USA        Acura Legend  \n",
       "2   non-USA             Audi 90  \n",
       "3   non-USA            Audi 100  \n",
       "4   non-USA            BMW 535i  \n",
       "..      ...                 ...  \n",
       "88  non-USA  Volkswagen Eurovan  \n",
       "89  non-USA   Volkswagen Passat  \n",
       "90  non-USA  Volkswagen Corrado  \n",
       "91  non-USA           Volvo 240  \n",
       "92  non-USA           Volvo 850  \n",
       "\n",
       "[93 rows x 28 columns]"
      ]
     },
     "execution_count": 20,
     "metadata": {},
     "output_type": "execute_result"
    }
   ],
   "source": [
    "car_data\n"
   ]
  },
  {
   "cell_type": "markdown",
   "metadata": {},
   "source": [
    "### Task18\n",
    "Sort data frame in ascending order of the Price column"
   ]
  },
  {
   "cell_type": "code",
   "execution_count": 40,
   "metadata": {},
   "outputs": [
    {
     "data": {
      "text/html": [
       "<div>\n",
       "<style scoped>\n",
       "    .dataframe tbody tr th:only-of-type {\n",
       "        vertical-align: middle;\n",
       "    }\n",
       "\n",
       "    .dataframe tbody tr th {\n",
       "        vertical-align: top;\n",
       "    }\n",
       "\n",
       "    .dataframe thead th {\n",
       "        text-align: right;\n",
       "    }\n",
       "</style>\n",
       "<table border=\"1\" class=\"dataframe\">\n",
       "  <thead>\n",
       "    <tr style=\"text-align: right;\">\n",
       "      <th></th>\n",
       "      <th>Unnamed: 0</th>\n",
       "      <th>Manufacturer</th>\n",
       "      <th>Model</th>\n",
       "      <th>Type</th>\n",
       "      <th>Min.Price</th>\n",
       "      <th>Price</th>\n",
       "      <th>Max.Price</th>\n",
       "      <th>MPG.city</th>\n",
       "      <th>MPG.highway</th>\n",
       "      <th>AirBags</th>\n",
       "      <th>...</th>\n",
       "      <th>Passengers</th>\n",
       "      <th>Length</th>\n",
       "      <th>Wheelbase</th>\n",
       "      <th>Width</th>\n",
       "      <th>Turn.circle</th>\n",
       "      <th>Rear.seat.room</th>\n",
       "      <th>Luggage.room</th>\n",
       "      <th>Weight</th>\n",
       "      <th>Origin</th>\n",
       "      <th>Make</th>\n",
       "    </tr>\n",
       "  </thead>\n",
       "  <tbody>\n",
       "    <tr>\n",
       "      <th>30</th>\n",
       "      <td>31</td>\n",
       "      <td>Ford</td>\n",
       "      <td>Festiva</td>\n",
       "      <td>Small</td>\n",
       "      <td>6.9</td>\n",
       "      <td>7.4</td>\n",
       "      <td>7.9</td>\n",
       "      <td>31</td>\n",
       "      <td>33</td>\n",
       "      <td>None</td>\n",
       "      <td>...</td>\n",
       "      <td>4</td>\n",
       "      <td>141</td>\n",
       "      <td>90</td>\n",
       "      <td>63</td>\n",
       "      <td>33</td>\n",
       "      <td>26.0</td>\n",
       "      <td>12.0</td>\n",
       "      <td>1845</td>\n",
       "      <td>USA</td>\n",
       "      <td>Ford Festiva</td>\n",
       "    </tr>\n",
       "    <tr>\n",
       "      <th>43</th>\n",
       "      <td>44</td>\n",
       "      <td>Hyundai</td>\n",
       "      <td>Excel</td>\n",
       "      <td>Small</td>\n",
       "      <td>6.8</td>\n",
       "      <td>8.0</td>\n",
       "      <td>9.2</td>\n",
       "      <td>29</td>\n",
       "      <td>33</td>\n",
       "      <td>None</td>\n",
       "      <td>...</td>\n",
       "      <td>5</td>\n",
       "      <td>168</td>\n",
       "      <td>94</td>\n",
       "      <td>63</td>\n",
       "      <td>35</td>\n",
       "      <td>26.0</td>\n",
       "      <td>11.0</td>\n",
       "      <td>2345</td>\n",
       "      <td>non-USA</td>\n",
       "      <td>Hyundai Excel</td>\n",
       "    </tr>\n",
       "    <tr>\n",
       "      <th>52</th>\n",
       "      <td>53</td>\n",
       "      <td>Mazda</td>\n",
       "      <td>323</td>\n",
       "      <td>Small</td>\n",
       "      <td>7.4</td>\n",
       "      <td>8.3</td>\n",
       "      <td>9.1</td>\n",
       "      <td>29</td>\n",
       "      <td>37</td>\n",
       "      <td>None</td>\n",
       "      <td>...</td>\n",
       "      <td>4</td>\n",
       "      <td>164</td>\n",
       "      <td>97</td>\n",
       "      <td>66</td>\n",
       "      <td>34</td>\n",
       "      <td>27.0</td>\n",
       "      <td>16.0</td>\n",
       "      <td>2325</td>\n",
       "      <td>non-USA</td>\n",
       "      <td>Mazda 323</td>\n",
       "    </tr>\n",
       "    <tr>\n",
       "      <th>38</th>\n",
       "      <td>39</td>\n",
       "      <td>Geo</td>\n",
       "      <td>Metro</td>\n",
       "      <td>Small</td>\n",
       "      <td>6.7</td>\n",
       "      <td>8.4</td>\n",
       "      <td>10.0</td>\n",
       "      <td>46</td>\n",
       "      <td>50</td>\n",
       "      <td>None</td>\n",
       "      <td>...</td>\n",
       "      <td>4</td>\n",
       "      <td>151</td>\n",
       "      <td>93</td>\n",
       "      <td>63</td>\n",
       "      <td>34</td>\n",
       "      <td>27.5</td>\n",
       "      <td>10.0</td>\n",
       "      <td>1695</td>\n",
       "      <td>non-USA</td>\n",
       "      <td>Geo Metro</td>\n",
       "    </tr>\n",
       "    <tr>\n",
       "      <th>79</th>\n",
       "      <td>80</td>\n",
       "      <td>Subaru</td>\n",
       "      <td>Justy</td>\n",
       "      <td>Small</td>\n",
       "      <td>7.3</td>\n",
       "      <td>8.4</td>\n",
       "      <td>9.5</td>\n",
       "      <td>33</td>\n",
       "      <td>37</td>\n",
       "      <td>None</td>\n",
       "      <td>...</td>\n",
       "      <td>4</td>\n",
       "      <td>146</td>\n",
       "      <td>90</td>\n",
       "      <td>60</td>\n",
       "      <td>32</td>\n",
       "      <td>23.5</td>\n",
       "      <td>10.0</td>\n",
       "      <td>2045</td>\n",
       "      <td>non-USA</td>\n",
       "      <td>Subaru Justy</td>\n",
       "    </tr>\n",
       "    <tr>\n",
       "      <th>...</th>\n",
       "      <td>...</td>\n",
       "      <td>...</td>\n",
       "      <td>...</td>\n",
       "      <td>...</td>\n",
       "      <td>...</td>\n",
       "      <td>...</td>\n",
       "      <td>...</td>\n",
       "      <td>...</td>\n",
       "      <td>...</td>\n",
       "      <td>...</td>\n",
       "      <td>...</td>\n",
       "      <td>...</td>\n",
       "      <td>...</td>\n",
       "      <td>...</td>\n",
       "      <td>...</td>\n",
       "      <td>...</td>\n",
       "      <td>...</td>\n",
       "      <td>...</td>\n",
       "      <td>...</td>\n",
       "      <td>...</td>\n",
       "      <td>...</td>\n",
       "    </tr>\n",
       "    <tr>\n",
       "      <th>3</th>\n",
       "      <td>4</td>\n",
       "      <td>Audi</td>\n",
       "      <td>100</td>\n",
       "      <td>Midsize</td>\n",
       "      <td>30.8</td>\n",
       "      <td>37.7</td>\n",
       "      <td>44.6</td>\n",
       "      <td>19</td>\n",
       "      <td>26</td>\n",
       "      <td>Driver &amp; Passenger</td>\n",
       "      <td>...</td>\n",
       "      <td>6</td>\n",
       "      <td>193</td>\n",
       "      <td>106</td>\n",
       "      <td>70</td>\n",
       "      <td>37</td>\n",
       "      <td>31.0</td>\n",
       "      <td>17.0</td>\n",
       "      <td>3405</td>\n",
       "      <td>non-USA</td>\n",
       "      <td>Audi 100</td>\n",
       "    </tr>\n",
       "    <tr>\n",
       "      <th>18</th>\n",
       "      <td>19</td>\n",
       "      <td>Chevrolet</td>\n",
       "      <td>Corvette</td>\n",
       "      <td>Sporty</td>\n",
       "      <td>34.6</td>\n",
       "      <td>38.0</td>\n",
       "      <td>41.5</td>\n",
       "      <td>17</td>\n",
       "      <td>25</td>\n",
       "      <td>Driver only</td>\n",
       "      <td>...</td>\n",
       "      <td>2</td>\n",
       "      <td>179</td>\n",
       "      <td>96</td>\n",
       "      <td>74</td>\n",
       "      <td>43</td>\n",
       "      <td>NaN</td>\n",
       "      <td>NaN</td>\n",
       "      <td>3380</td>\n",
       "      <td>USA</td>\n",
       "      <td>Chevrolet Corvette</td>\n",
       "    </tr>\n",
       "    <tr>\n",
       "      <th>10</th>\n",
       "      <td>11</td>\n",
       "      <td>Cadillac</td>\n",
       "      <td>Seville</td>\n",
       "      <td>Midsize</td>\n",
       "      <td>37.5</td>\n",
       "      <td>40.1</td>\n",
       "      <td>42.7</td>\n",
       "      <td>16</td>\n",
       "      <td>25</td>\n",
       "      <td>Driver &amp; Passenger</td>\n",
       "      <td>...</td>\n",
       "      <td>5</td>\n",
       "      <td>204</td>\n",
       "      <td>111</td>\n",
       "      <td>74</td>\n",
       "      <td>44</td>\n",
       "      <td>31.0</td>\n",
       "      <td>14.0</td>\n",
       "      <td>3935</td>\n",
       "      <td>USA</td>\n",
       "      <td>Cadillac Seville</td>\n",
       "    </tr>\n",
       "    <tr>\n",
       "      <th>47</th>\n",
       "      <td>48</td>\n",
       "      <td>Infiniti</td>\n",
       "      <td>Q45</td>\n",
       "      <td>Midsize</td>\n",
       "      <td>45.4</td>\n",
       "      <td>47.9</td>\n",
       "      <td>50.4</td>\n",
       "      <td>17</td>\n",
       "      <td>22</td>\n",
       "      <td>Driver only</td>\n",
       "      <td>...</td>\n",
       "      <td>5</td>\n",
       "      <td>200</td>\n",
       "      <td>113</td>\n",
       "      <td>72</td>\n",
       "      <td>42</td>\n",
       "      <td>29.0</td>\n",
       "      <td>15.0</td>\n",
       "      <td>4000</td>\n",
       "      <td>non-USA</td>\n",
       "      <td>Infiniti Q45</td>\n",
       "    </tr>\n",
       "    <tr>\n",
       "      <th>58</th>\n",
       "      <td>59</td>\n",
       "      <td>Mercedes-Benz</td>\n",
       "      <td>300E</td>\n",
       "      <td>Midsize</td>\n",
       "      <td>43.8</td>\n",
       "      <td>61.9</td>\n",
       "      <td>80.0</td>\n",
       "      <td>19</td>\n",
       "      <td>25</td>\n",
       "      <td>Driver &amp; Passenger</td>\n",
       "      <td>...</td>\n",
       "      <td>5</td>\n",
       "      <td>187</td>\n",
       "      <td>110</td>\n",
       "      <td>69</td>\n",
       "      <td>37</td>\n",
       "      <td>27.0</td>\n",
       "      <td>15.0</td>\n",
       "      <td>3525</td>\n",
       "      <td>non-USA</td>\n",
       "      <td>Mercedes-Benz 300E</td>\n",
       "    </tr>\n",
       "  </tbody>\n",
       "</table>\n",
       "<p>93 rows × 28 columns</p>\n",
       "</div>"
      ],
      "text/plain": [
       "    Unnamed: 0   Manufacturer     Model     Type  Min.Price  Price  Max.Price  \\\n",
       "30          31           Ford   Festiva    Small        6.9    7.4        7.9   \n",
       "43          44        Hyundai     Excel    Small        6.8    8.0        9.2   \n",
       "52          53          Mazda       323    Small        7.4    8.3        9.1   \n",
       "38          39            Geo     Metro    Small        6.7    8.4       10.0   \n",
       "79          80         Subaru     Justy    Small        7.3    8.4        9.5   \n",
       "..         ...            ...       ...      ...        ...    ...        ...   \n",
       "3            4           Audi       100  Midsize       30.8   37.7       44.6   \n",
       "18          19      Chevrolet  Corvette   Sporty       34.6   38.0       41.5   \n",
       "10          11       Cadillac   Seville  Midsize       37.5   40.1       42.7   \n",
       "47          48       Infiniti       Q45  Midsize       45.4   47.9       50.4   \n",
       "58          59  Mercedes-Benz      300E  Midsize       43.8   61.9       80.0   \n",
       "\n",
       "    MPG.city  MPG.highway             AirBags  ... Passengers Length  \\\n",
       "30        31           33                None  ...          4    141   \n",
       "43        29           33                None  ...          5    168   \n",
       "52        29           37                None  ...          4    164   \n",
       "38        46           50                None  ...          4    151   \n",
       "79        33           37                None  ...          4    146   \n",
       "..       ...          ...                 ...  ...        ...    ...   \n",
       "3         19           26  Driver & Passenger  ...          6    193   \n",
       "18        17           25         Driver only  ...          2    179   \n",
       "10        16           25  Driver & Passenger  ...          5    204   \n",
       "47        17           22         Driver only  ...          5    200   \n",
       "58        19           25  Driver & Passenger  ...          5    187   \n",
       "\n",
       "    Wheelbase  Width  Turn.circle  Rear.seat.room Luggage.room  Weight  \\\n",
       "30         90     63           33            26.0         12.0    1845   \n",
       "43         94     63           35            26.0         11.0    2345   \n",
       "52         97     66           34            27.0         16.0    2325   \n",
       "38         93     63           34            27.5         10.0    1695   \n",
       "79         90     60           32            23.5         10.0    2045   \n",
       "..        ...    ...          ...             ...          ...     ...   \n",
       "3         106     70           37            31.0         17.0    3405   \n",
       "18         96     74           43             NaN          NaN    3380   \n",
       "10        111     74           44            31.0         14.0    3935   \n",
       "47        113     72           42            29.0         15.0    4000   \n",
       "58        110     69           37            27.0         15.0    3525   \n",
       "\n",
       "     Origin                Make  \n",
       "30      USA        Ford Festiva  \n",
       "43  non-USA       Hyundai Excel  \n",
       "52  non-USA           Mazda 323  \n",
       "38  non-USA           Geo Metro  \n",
       "79  non-USA        Subaru Justy  \n",
       "..      ...                 ...  \n",
       "3   non-USA            Audi 100  \n",
       "18      USA  Chevrolet Corvette  \n",
       "10      USA    Cadillac Seville  \n",
       "47  non-USA        Infiniti Q45  \n",
       "58  non-USA  Mercedes-Benz 300E  \n",
       "\n",
       "[93 rows x 28 columns]"
      ]
     },
     "execution_count": 40,
     "metadata": {},
     "output_type": "execute_result"
    }
   ],
   "source": [
    "car_data.sort_values(\"Price\")"
   ]
  },
  {
   "cell_type": "markdown",
   "metadata": {},
   "source": [
    "### Task19\n",
    "Print number of unique car manufacturers in the data"
   ]
  },
  {
   "cell_type": "code",
   "execution_count": 34,
   "metadata": {},
   "outputs": [
    {
     "name": "stdout",
     "output_type": "stream",
     "text": [
      "['Acura' 'Audi' 'BMW' 'Buick' 'Cadillac' 'Chevrolet' 'Chrylser' 'Chrysler'\n",
      " 'Dodge' 'Eagle' 'Ford' 'Geo' 'Honda' 'Hyundai' 'Infiniti' 'Lexus'\n",
      " 'Lincoln' 'Mazda' 'Mercedes-Benz' 'Mercury' 'Mitsubishi' 'Nissan'\n",
      " 'Oldsmobile' 'Plymouth' 'Pontiac' 'Saab' 'Saturn' 'Subaru' 'Suzuki'\n",
      " 'Toyota' 'Volkswagen' 'Volvo']\n"
     ]
    }
   ],
   "source": [
    "print(car_data[\"Manufacturer\"].unique())"
   ]
  },
  {
   "cell_type": "markdown",
   "metadata": {},
   "source": [
    "### Task20\n",
    "Print the maximum Wheelbase from the data"
   ]
  },
  {
   "cell_type": "code",
   "execution_count": 22,
   "metadata": {},
   "outputs": [
    {
     "data": {
      "text/plain": [
       "119"
      ]
     },
     "execution_count": 22,
     "metadata": {},
     "output_type": "execute_result"
    }
   ],
   "source": [
    "car_data[\"Wheelbase\"].max()"
   ]
  },
  {
   "cell_type": "markdown",
   "metadata": {},
   "source": [
    "### Task21\n",
    "Print the car Model which has maximum Wheelbase"
   ]
  },
  {
   "cell_type": "code",
   "execution_count": 24,
   "metadata": {},
   "outputs": [
    {
     "name": "stdout",
     "output_type": "stream",
     "text": [
      "35    Aerostar\n",
      "Name: Model, dtype: object\n"
     ]
    }
   ],
   "source": [
    "m=car_data[car_data[\"Wheelbase\"]==car_data[\"Wheelbase\"].max()][\"Model\"]\n",
    "print(m)"
   ]
  },
  {
   "cell_type": "markdown",
   "metadata": {},
   "source": [
    "### Task22\n",
    "\n",
    "Print the Details of car with maximum passenger capacity"
   ]
  },
  {
   "cell_type": "code",
   "execution_count": 31,
   "metadata": {},
   "outputs": [],
   "source": [
    "k=car_data[car_data[\"Passengers\"]==car_data[\"Passengers\"].max()]\n"
   ]
  },
  {
   "cell_type": "code",
   "execution_count": 32,
   "metadata": {},
   "outputs": [
    {
     "data": {
      "text/html": [
       "<div>\n",
       "<style scoped>\n",
       "    .dataframe tbody tr th:only-of-type {\n",
       "        vertical-align: middle;\n",
       "    }\n",
       "\n",
       "    .dataframe tbody tr th {\n",
       "        vertical-align: top;\n",
       "    }\n",
       "\n",
       "    .dataframe thead th {\n",
       "        text-align: right;\n",
       "    }\n",
       "</style>\n",
       "<table border=\"1\" class=\"dataframe\">\n",
       "  <thead>\n",
       "    <tr style=\"text-align: right;\">\n",
       "      <th></th>\n",
       "      <th>Unnamed: 0</th>\n",
       "      <th>Manufacturer</th>\n",
       "      <th>Model</th>\n",
       "      <th>Type</th>\n",
       "      <th>Min.Price</th>\n",
       "      <th>Price</th>\n",
       "      <th>Max.Price</th>\n",
       "      <th>MPG.city</th>\n",
       "      <th>MPG.highway</th>\n",
       "      <th>AirBags</th>\n",
       "      <th>...</th>\n",
       "      <th>Passengers</th>\n",
       "      <th>Length</th>\n",
       "      <th>Wheelbase</th>\n",
       "      <th>Width</th>\n",
       "      <th>Turn.circle</th>\n",
       "      <th>Rear.seat.room</th>\n",
       "      <th>Luggage.room</th>\n",
       "      <th>Weight</th>\n",
       "      <th>Origin</th>\n",
       "      <th>Make</th>\n",
       "    </tr>\n",
       "  </thead>\n",
       "  <tbody>\n",
       "    <tr>\n",
       "      <th>16</th>\n",
       "      <td>17</td>\n",
       "      <td>Chevrolet</td>\n",
       "      <td>Astro</td>\n",
       "      <td>Van</td>\n",
       "      <td>14.7</td>\n",
       "      <td>16.6</td>\n",
       "      <td>18.6</td>\n",
       "      <td>15</td>\n",
       "      <td>20</td>\n",
       "      <td>None</td>\n",
       "      <td>...</td>\n",
       "      <td>8</td>\n",
       "      <td>194</td>\n",
       "      <td>111</td>\n",
       "      <td>78</td>\n",
       "      <td>42</td>\n",
       "      <td>33.5</td>\n",
       "      <td>NaN</td>\n",
       "      <td>4025</td>\n",
       "      <td>USA</td>\n",
       "      <td>Chevrolet Astro</td>\n",
       "    </tr>\n",
       "  </tbody>\n",
       "</table>\n",
       "<p>1 rows × 28 columns</p>\n",
       "</div>"
      ],
      "text/plain": [
       "    Unnamed: 0 Manufacturer  Model Type  Min.Price  Price  Max.Price  \\\n",
       "16          17    Chevrolet  Astro  Van       14.7   16.6       18.6   \n",
       "\n",
       "    MPG.city  MPG.highway AirBags  ... Passengers Length  Wheelbase  Width  \\\n",
       "16        15           20    None  ...          8    194        111     78   \n",
       "\n",
       "    Turn.circle  Rear.seat.room Luggage.room  Weight  Origin             Make  \n",
       "16           42            33.5          NaN    4025     USA  Chevrolet Astro  \n",
       "\n",
       "[1 rows x 28 columns]"
      ]
     },
     "execution_count": 32,
     "metadata": {},
     "output_type": "execute_result"
    }
   ],
   "source": [
    "k"
   ]
  }
 ],
 "metadata": {
  "kernelspec": {
   "display_name": "Python 3",
   "language": "python",
   "name": "python3"
  },
  "language_info": {
   "codemirror_mode": {
    "name": "ipython",
    "version": 3
   },
   "file_extension": ".py",
   "mimetype": "text/x-python",
   "name": "python",
   "nbconvert_exporter": "python",
   "pygments_lexer": "ipython3",
   "version": "3.7.6"
  }
 },
 "nbformat": 4,
 "nbformat_minor": 4
}
