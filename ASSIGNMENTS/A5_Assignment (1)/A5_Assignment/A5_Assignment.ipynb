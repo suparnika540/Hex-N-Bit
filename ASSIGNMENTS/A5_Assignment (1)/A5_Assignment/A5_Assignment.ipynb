{
 "cells": [
  {
   "cell_type": "markdown",
   "metadata": {},
   "source": [
    "<a href='https://www.hexnbit.com/'> <img src='https://www.hexnbit.com/wp-content/uploads/2019/09/hexnbit_final_66px.png'/> </a>"
   ]
  },
  {
   "cell_type": "markdown",
   "metadata": {},
   "source": [
    "# Task 1:\n",
    "1. Using OpenCV functions, open the webcam / USB camera device and play a live stream\n",
    "2. Video stream must stop when \"x\" key is pressed<br>\n",
    "**Hint-** Refer Section 41 from the content"
   ]
  },
  {
   "cell_type": "markdown",
   "metadata": {},
   "source": [
    "# Task 2:\n",
    "1. Add another window which displays grayscale feed<br>\n",
    "**Hint-** Refer Section 47 from the content"
   ]
  },
  {
   "cell_type": "markdown",
   "metadata": {},
   "source": [
    "# Task 3:\n",
    "1. In the live camera feed, using the Haar Cascade Files, detect following:-\n",
    "    - Face (Enclosed with Yellow Rectangle)\n",
    "    - Nose (Enclosed with Blue Rectangle)\n",
    "    - Eyes (Enclosed with Green Rectangle)\n",
    "    - Smile (Enclosed with Red Rectangle)<br>\n",
    "**Hint-** Refer Section 50"
   ]
  },
  {
   "cell_type": "markdown",
   "metadata": {},
   "source": [
    "# Task 4:\n",
    "1. Based on the Facial Features detected in live feed, try to form a logic which may be used to detect if the person is wearing mask or not<br>\n",
    "**Hint:** What are the facial features not visible when a person is wearing a mask?\n",
    "\n",
    "2. If mask is worn write \"Wearing Mask\" on top of face rectangle using Green Colour\n",
    "3. Else write \"No Mask\" on top of face rectangle using Red Colour<br>\n",
    "**Hint:** Look at the picture attached below / in the references of this download,Consider that only one face is detected in the live feed<br>"
   ]
  },
  {
   "cell_type": "markdown",
   "metadata": {},
   "source": [
    "The algorithm may not be 100% accurate and will depend on lighting conditions / camera placement etc. but try to calibrate the parameters of \"detectMultiScale\" function<br>\n",
    "Press Shift+Tab on the function to check all possible parameters"
   ]
  },
  {
   "cell_type": "markdown",
   "metadata": {},
   "source": [
    "<img src='mask_detection.jpg'/> </a>"
   ]
  },
  {
   "cell_type": "code",
   "execution_count": null,
   "metadata": {},
   "outputs": [],
   "source": []
  }
 ],
 "metadata": {
  "kernelspec": {
   "display_name": "Python 3",
   "language": "python",
   "name": "python3"
  },
  "language_info": {
   "codemirror_mode": {
    "name": "ipython",
    "version": 3
   },
   "file_extension": ".py",
   "mimetype": "text/x-python",
   "name": "python",
   "nbconvert_exporter": "python",
   "pygments_lexer": "ipython3",
   "version": "3.7.6"
  }
 },
 "nbformat": 4,
 "nbformat_minor": 4
}
