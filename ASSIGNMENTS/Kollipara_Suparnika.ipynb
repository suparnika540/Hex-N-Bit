{
 "cells": [
  {
   "cell_type": "markdown",
   "metadata": {},
   "source": [
    "<a href='https://www.hexnbit.com/'> <img src='https://www.hexnbit.com/wp-content/uploads/2019/09/hexnbit_final_66px.png'/> </a>"
   ]
  },
  {
   "cell_type": "markdown",
   "metadata": {},
   "source": [
    "# Assignment"
   ]
  },
  {
   "cell_type": "markdown",
   "metadata": {},
   "source": [
    "Mentioned below are the tasks, the solution for each tasks has to be appended by inserting a new cell below the task,\n",
    "along with the following description:-\n",
    "1. Why the method was used (if applicable)\n",
    "2. Explanation of logic"
   ]
  },
  {
   "cell_type": "markdown",
   "metadata": {},
   "source": [
    "### Task 1\n",
    "- Generate integer between (100 to 200) using while loop.\n",
    "- if i want number till 155"
   ]
  },
  {
   "cell_type": "code",
   "execution_count": 39,
   "metadata": {},
   "outputs": [
    {
     "name": "stdout",
     "output_type": "stream",
     "text": [
      "100 101 102 103 104 105 106 107 108 109 110 111 112 113 114 115 116 117 118 119 120 121 122 123 124 125 126 127 128 129 130 131 132 133 134 135 136 137 138 139 140 141 142 143 144 145 146 147 148 149 150 151 152 153 154 155 156 157 158 159 160 161 162 163 164 165 166 167 168 169 170 171 172 173 174 175 176 177 178 179 180 181 182 183 184 185 186 187 188 189 190 191 192 193 194 195 196 197 198 199 200 "
     ]
    }
   ],
   "source": [
    "i=100\n",
    "while(i<=200):\n",
    "    print(i,end=\" \")\n",
    "    i+=1"
   ]
  },
  {
   "cell_type": "code",
   "execution_count": 40,
   "metadata": {},
   "outputs": [
    {
     "name": "stdout",
     "output_type": "stream",
     "text": [
      "100 101 102 103 104 105 106 107 108 109 110 111 112 113 114 115 116 117 118 119 120 121 122 123 124 125 126 127 128 129 130 131 132 133 134 135 136 137 138 139 140 141 142 143 144 145 146 147 148 149 150 151 152 153 154 155 "
     ]
    }
   ],
   "source": [
    "i=100\n",
    "while(i<=200):\n",
    "    print(i,end=\" \")\n",
    "    if(i==155):\n",
    "        break\n",
    "    i+=1"
   ]
  },
  {
   "cell_type": "markdown",
   "metadata": {},
   "source": [
    "### Task 2\n",
    "Refer task 3 and print even and odd number."
   ]
  },
  {
   "cell_type": "code",
   "execution_count": 42,
   "metadata": {},
   "outputs": [
    {
     "name": "stdout",
     "output_type": "stream",
     "text": [
      "5\n",
      "Odd\n"
     ]
    }
   ],
   "source": [
    "b=int(input())\n",
    "if(b%2==0):\n",
    "    print(\"Even\")\n",
    "else:\n",
    "    print(\"Odd\")"
   ]
  },
  {
   "cell_type": "markdown",
   "metadata": {},
   "source": [
    "### Task 3\n",
    "Take value from the user and Seprate them into Positive & negative number."
   ]
  },
  {
   "cell_type": "code",
   "execution_count": 43,
   "metadata": {},
   "outputs": [
    {
     "name": "stdout",
     "output_type": "stream",
     "text": [
      "-1\n",
      "Negative\n"
     ]
    }
   ],
   "source": [
    "a=int(input())\n",
    "if a>=0:\n",
    "    print(\"Positive\")\n",
    "else:\n",
    "    print(\"Negative\")"
   ]
  },
  {
   "cell_type": "markdown",
   "metadata": {},
   "source": [
    "### Task 4\n",
    "thistuple = (\"apple\", \"banana\", \"cherry\", \"orange\", \"kiwi\", \"melon\", \"mango\")<br>Print thistuple in reverse format."
   ]
  },
  {
   "cell_type": "code",
   "execution_count": 44,
   "metadata": {},
   "outputs": [
    {
     "name": "stdout",
     "output_type": "stream",
     "text": [
      "mango\n",
      "melon\n",
      "kiwi\n",
      "orange\n",
      "cherry\n",
      "banana\n",
      "apple\n"
     ]
    }
   ],
   "source": [
    "thistuple = (\"apple\", \"banana\", \"cherry\", \"orange\", \"kiwi\", \"melon\", \"mango\")\n",
    "i=len(thistuple)-1\n",
    "while(i!=-1):\n",
    "    print(thistuple[i])\n",
    "    i-=1"
   ]
  },
  {
   "cell_type": "markdown",
   "metadata": {},
   "source": [
    "### Task 5\n",
    "Calculate mean, median, mode and standard deviation of given list.<br>\n",
    "A=[2,5,6,9,7,3]<br>B=[2,5,3,2,8,3,2,1,9,4,2,5,6]<br>C=[1,1.5,2,2.5,3,3.5,4,5,6,4.5,5]"
   ]
  },
  {
   "cell_type": "code",
   "execution_count": 45,
   "metadata": {},
   "outputs": [
    {
     "name": "stdout",
     "output_type": "stream",
     "text": [
      "5.333333333333333\n",
      "5.5\n",
      "2.581988897471611\n"
     ]
    },
    {
     "ename": "StatisticsError",
     "evalue": "no unique mode; found 6 equally common values",
     "output_type": "error",
     "traceback": [
      "\u001b[1;31m---------------------------------------------------------------------------\u001b[0m",
      "\u001b[1;31mStatisticsError\u001b[0m                           Traceback (most recent call last)",
      "\u001b[1;32m<ipython-input-45-b9b38f25a945>\u001b[0m in \u001b[0;36m<module>\u001b[1;34m\u001b[0m\n\u001b[0;32m      4\u001b[0m \u001b[0mprint\u001b[0m\u001b[1;33m(\u001b[0m\u001b[0mstatistics\u001b[0m\u001b[1;33m.\u001b[0m\u001b[0mmedian\u001b[0m\u001b[1;33m(\u001b[0m\u001b[0mA\u001b[0m\u001b[1;33m)\u001b[0m\u001b[1;33m)\u001b[0m\u001b[1;33m\u001b[0m\u001b[1;33m\u001b[0m\u001b[0m\n\u001b[0;32m      5\u001b[0m \u001b[0mprint\u001b[0m\u001b[1;33m(\u001b[0m\u001b[0mstatistics\u001b[0m\u001b[1;33m.\u001b[0m\u001b[0mstdev\u001b[0m\u001b[1;33m(\u001b[0m\u001b[0mA\u001b[0m\u001b[1;33m)\u001b[0m\u001b[1;33m)\u001b[0m\u001b[1;33m\u001b[0m\u001b[1;33m\u001b[0m\u001b[0m\n\u001b[1;32m----> 6\u001b[1;33m \u001b[0mprint\u001b[0m\u001b[1;33m(\u001b[0m\u001b[0mstatistics\u001b[0m\u001b[1;33m.\u001b[0m\u001b[0mmode\u001b[0m\u001b[1;33m(\u001b[0m\u001b[0mA\u001b[0m\u001b[1;33m)\u001b[0m\u001b[1;33m)\u001b[0m\u001b[1;33m\u001b[0m\u001b[1;33m\u001b[0m\u001b[0m\n\u001b[0m",
      "\u001b[1;32mC:\\ProgramData\\Anaconda3\\lib\\statistics.py\u001b[0m in \u001b[0;36mmode\u001b[1;34m(data)\u001b[0m\n\u001b[0;32m    504\u001b[0m     \u001b[1;32melif\u001b[0m \u001b[0mtable\u001b[0m\u001b[1;33m:\u001b[0m\u001b[1;33m\u001b[0m\u001b[1;33m\u001b[0m\u001b[0m\n\u001b[0;32m    505\u001b[0m         raise StatisticsError(\n\u001b[1;32m--> 506\u001b[1;33m                 \u001b[1;34m'no unique mode; found %d equally common values'\u001b[0m \u001b[1;33m%\u001b[0m \u001b[0mlen\u001b[0m\u001b[1;33m(\u001b[0m\u001b[0mtable\u001b[0m\u001b[1;33m)\u001b[0m\u001b[1;33m\u001b[0m\u001b[1;33m\u001b[0m\u001b[0m\n\u001b[0m\u001b[0;32m    507\u001b[0m                 )\n\u001b[0;32m    508\u001b[0m     \u001b[1;32melse\u001b[0m\u001b[1;33m:\u001b[0m\u001b[1;33m\u001b[0m\u001b[1;33m\u001b[0m\u001b[0m\n",
      "\u001b[1;31mStatisticsError\u001b[0m: no unique mode; found 6 equally common values"
     ]
    }
   ],
   "source": [
    "import statistics\n",
    "A=[2,5,6,9,7,3]\n",
    "print(statistics.mean(A))\n",
    "print(statistics.median(A))\n",
    "print(statistics.stdev(A))\n",
    "print(statistics.mode(A))\n"
   ]
  },
  {
   "cell_type": "code",
   "execution_count": 46,
   "metadata": {},
   "outputs": [
    {
     "name": "stdout",
     "output_type": "stream",
     "text": [
      "4\n",
      "3\n",
      "2.48327740429189\n",
      "2\n"
     ]
    }
   ],
   "source": [
    "B=[2,5,3,2,8,3,2,1,9,4,2,5,6]\n",
    "print(statistics.mean(B))\n",
    "print(statistics.median(B))\n",
    "print(statistics.stdev(B))\n",
    "print(statistics.mode(B))"
   ]
  },
  {
   "cell_type": "code",
   "execution_count": 47,
   "metadata": {},
   "outputs": [
    {
     "name": "stdout",
     "output_type": "stream",
     "text": [
      "3.4545454545454546\n",
      "3.5\n",
      "1.6039723416341296\n",
      "5\n"
     ]
    }
   ],
   "source": [
    "C=[1,1.5,2,2.5,3,3.5,4,5,6,4.5,5]\n",
    "print(statistics.mean(C))\n",
    "print(statistics.median(C))\n",
    "print(statistics.stdev(C))\n",
    "print(statistics.mode(C))"
   ]
  },
  {
   "cell_type": "markdown",
   "metadata": {},
   "source": [
    "### Task 6:\n",
    "- Write a program to find compound interest\n",
    "- A = P(1 + R/100) t\n",
    "\n",
    "    Compound Interest = A – P\n",
    "    Where,\n",
    "    \n",
    "    A is amount\n",
    "    \n",
    "    P is principle amount\n",
    "    \n",
    "    R is the rate and\n",
    "    \n",
    "    T is the time span"
   ]
  },
  {
   "cell_type": "code",
   "execution_count": 48,
   "metadata": {},
   "outputs": [
    {
     "name": "stdout",
     "output_type": "stream",
     "text": [
      "410.0\n"
     ]
    }
   ],
   "source": [
    "def function1(A,P,R,T):\n",
    "    A=P*(1+(R/100))*T\n",
    "    return A-P\n",
    "ci=function1(10000,100,2,5)\n",
    "print(ci)"
   ]
  },
  {
   "cell_type": "markdown",
   "metadata": {},
   "source": [
    "### Task 7:\n",
    "Write a Python program to sum all the items in a list.\n",
    "[2,3,4,-4,5,6,7,12]\n"
   ]
  },
  {
   "cell_type": "code",
   "execution_count": 49,
   "metadata": {},
   "outputs": [
    {
     "name": "stdout",
     "output_type": "stream",
     "text": [
      "35\n"
     ]
    }
   ],
   "source": [
    "a=[2,3,4,-4,5,6,7,12]\n",
    "sum=0\n",
    "for i in range(len(a)):\n",
    "    sum+=a[i]\n",
    "print(sum)"
   ]
  },
  {
   "cell_type": "markdown",
   "metadata": {},
   "source": [
    "### Task 8\n",
    "\n",
    "- A company decided to give bonus of 5% to employee if his/her year of service is more than 5 years.\n",
    "    Ask user for their salary and year of service and print the net bonus amount.\n"
   ]
  },
  {
   "cell_type": "code",
   "execution_count": 50,
   "metadata": {},
   "outputs": [
    {
     "name": "stdout",
     "output_type": "stream",
     "text": [
      "Salary:500000\n",
      "Year of Service:6\n",
      "25000.0\n"
     ]
    }
   ],
   "source": [
    "sal=int(input(\"Salary:\"))\n",
    "yos=int(input(\"Year of Service:\"))\n",
    "if yos>5:\n",
    "    bonus=0.05*sal\n",
    "    print(bonus)"
   ]
  },
  {
   "cell_type": "markdown",
   "metadata": {},
   "source": [
    "### Task 9:\n",
    "- Take values of length and breadth of a rectangle from user and check if it is square or not.\n",
    "- Take two int values from user and print greatest among them."
   ]
  },
  {
   "cell_type": "code",
   "execution_count": 51,
   "metadata": {},
   "outputs": [
    {
     "name": "stdout",
     "output_type": "stream",
     "text": [
      "Length: 4\n",
      "Breadth: 5\n",
      "Not a Square\n"
     ]
    }
   ],
   "source": [
    "#first\n",
    "l=int(input(\"Length: \"))\n",
    "b=int(input(\"Breadth: \"))\n",
    "if l==b:\n",
    "    print(\"Square\")\n",
    "else:\n",
    "    print(\"Not a Square\")"
   ]
  },
  {
   "cell_type": "code",
   "execution_count": 52,
   "metadata": {},
   "outputs": [
    {
     "name": "stdout",
     "output_type": "stream",
     "text": [
      "4\n",
      "5\n",
      "5\n"
     ]
    }
   ],
   "source": [
    "#second\n",
    "a=int(input())\n",
    "b=int(input())\n",
    "if a>b:\n",
    "    print(a)\n",
    "else:\n",
    "    print(b)"
   ]
  },
  {
   "cell_type": "markdown",
   "metadata": {},
   "source": [
    "### Task 10: \n",
    "\n",
    "- A student will not be allowed to sit in exam if his/her attendence is less than 75%.\n",
    "    Take following input from user\n",
    "    Number of classes held\n",
    "    Number of classes attended.\n",
    "    And print\n",
    "    percentage of class attended\n",
    "    Is student is allowed to sit in exam or not.\n",
    "\n",
    "- Modify the above question to allow student to sit if he/she has medical cause. Ask user if he/she has medical cause or not ( 'Y' or 'N' ) and print accordingly."
   ]
  },
  {
   "cell_type": "code",
   "execution_count": 53,
   "metadata": {},
   "outputs": [
    {
     "name": "stdout",
     "output_type": "stream",
     "text": [
      "No.of classes held: 50\n",
      "No.of classes attended: 25\n",
      "Student is not allowed to sit in exam\n"
     ]
    }
   ],
   "source": [
    "#first\n",
    "nh=int(input(\"No.of classes held: \"))\n",
    "na=int(input(\"No.of classes attended: \"))\n",
    "e=(na/nh)*100\n",
    "if e>=75:\n",
    "    print(\"Student is allowed to sit in exam\")\n",
    "else:\n",
    "    print(\"Student is not allowed to sit in exam\")\n",
    "    "
   ]
  },
  {
   "cell_type": "code",
   "execution_count": 54,
   "metadata": {},
   "outputs": [
    {
     "name": "stdout",
     "output_type": "stream",
     "text": [
      "No.of classes held: 50\n",
      "No.of classes attended: 25\n",
      "Medical cause:Y\n",
      "Student is allowed to sit in exam\n"
     ]
    }
   ],
   "source": [
    "#second\n",
    "nh=int(input(\"No.of classes held: \"))\n",
    "na=int(input(\"No.of classes attended: \"))\n",
    "mc=input(\"Medical cause:\")\n",
    "e=(na/nh)*100\n",
    "if e>=75:\n",
    "    print(\"Student is allowed to sit in exam\")\n",
    "else:\n",
    "    if(mc=='Y'):\n",
    "        print(\"Student is allowed to sit in exam\")\n",
    "    else:\n",
    "        print(\"Student is not allowed to sit in exam\")"
   ]
  },
  {
   "cell_type": "markdown",
   "metadata": {},
   "source": [
    "### Task 11:\n",
    "- Write a program to find prime factor of a number.\n",
    "If a factor of a number is prime number then it is its prime factor.\n",
    "- Write a program to print all prime number in between 1 to 100. "
   ]
  },
  {
   "cell_type": "code",
   "execution_count": 7,
   "metadata": {},
   "outputs": [
    {
     "name": "stdout",
     "output_type": "stream",
     "text": [
      "66\n",
      "2 3 11 "
     ]
    }
   ],
   "source": [
    "pf=int(input())\n",
    "for i in range(2,pf+1):\n",
    "    flag=0\n",
    "    if(pf%i==0):\n",
    "        for j in range(2,(i//2)+1):\n",
    "            if(i%j==0):\n",
    "                flag=1\n",
    "        if(flag==0):\n",
    "            print(i,end=\" \")"
   ]
  },
  {
   "cell_type": "code",
   "execution_count": 3,
   "metadata": {},
   "outputs": [
    {
     "name": "stdout",
     "output_type": "stream",
     "text": [
      "2 3 5 7 11 13 17 19 23 29 31 37 41 43 47 53 59 61 67 71 73 79 83 89 97 "
     ]
    }
   ],
   "source": [
    "for i in range(2,100):\n",
    "    flag=0\n",
    "    for j in range(2,(i//2)+1):\n",
    "        if(i%j==0):\n",
    "            flag=1\n",
    "    if(flag==0):\n",
    "        print(i,end=\" \")"
   ]
  },
  {
   "cell_type": "markdown",
   "metadata": {},
   "source": [
    "### Task 12\n",
    "- Write a program to print Fibonacci series up to n terms\n",
    "    - *Hint:* 0, 1, 1, 2, 3, 5, 8, 13, 21... "
   ]
  },
  {
   "cell_type": "code",
   "execution_count": 2,
   "metadata": {},
   "outputs": [
    {
     "name": "stdout",
     "output_type": "stream",
     "text": [
      "10\n",
      "0 1 1 2 3 5 8 13 21 34 "
     ]
    }
   ],
   "source": [
    "def fibo(n):\n",
    "    if n==1:\n",
    "        return 0\n",
    "    elif n==2:\n",
    "        return 1\n",
    "    else:\n",
    "        return fibo(n-1) + fibo(n-2)\n",
    "    \n",
    "a=int(input())\n",
    "for i in range(1,a+1):\n",
    "    print(fibo(i),end=\" \")"
   ]
  },
  {
   "cell_type": "markdown",
   "metadata": {},
   "source": [
    "### Task 13:\n",
    "Print the following patterns using loop :\n",
    "\n",
    "    a.\n",
    "        *\n",
    "        **\n",
    "        ***\n",
    "        ****\n",
    "    b.\n",
    "          *  \n",
    "         *** \n",
    "        *****\n",
    "         *** \n",
    "          *  \n",
    "    "
   ]
  },
  {
   "cell_type": "code",
   "execution_count": 3,
   "metadata": {},
   "outputs": [
    {
     "name": "stdout",
     "output_type": "stream",
     "text": [
      "*\n",
      "**\n",
      "***\n",
      "****\n"
     ]
    }
   ],
   "source": [
    "a=\"*\"\n",
    "for i in range(1,5):\n",
    "    print(a*i)"
   ]
  },
  {
   "cell_type": "code",
   "execution_count": 36,
   "metadata": {},
   "outputs": [
    {
     "name": "stdout",
     "output_type": "stream",
     "text": [
      "   *\n",
      "  ***\n",
      " *****\n",
      "  ***\n",
      "   *\n"
     ]
    }
   ],
   "source": [
    "n=5\n",
    "k=int((n+1)//2 - 1)\n",
    "sp=\" \"\n",
    "st=\"*\"\n",
    "for i in range(1,n+1,2):\n",
    "    print(k*sp,st*i)\n",
    "    k-=1\n",
    "    if(i==n):\n",
    "        k=1\n",
    "        for j in range(n-2,0,-2):\n",
    "            print(k*sp,j*st)\n",
    "            k+=1\n",
    "    \n"
   ]
  },
  {
   "cell_type": "markdown",
   "metadata": {},
   "source": [
    "### Task 14:\n",
    "- Create a function that accepts a string and calculate the number of upper case letters and lower case letters"
   ]
  },
  {
   "cell_type": "code",
   "execution_count": 6,
   "metadata": {},
   "outputs": [
    {
     "name": "stdout",
     "output_type": "stream",
     "text": [
      "No.of upper case letters: 3\n",
      "No.of lower case letters: 6\n"
     ]
    }
   ],
   "source": [
    "def function2(str1):\n",
    "    a=str1\n",
    "    u=0\n",
    "    l=0\n",
    "    for i in a:\n",
    "        if (ord(i)>=65 and ord(i)<=90):\n",
    "            u+=1\n",
    "        elif (ord(i)>=97 and ord(i)<=122):\n",
    "            l+=1\n",
    "    print(\"No.of upper case letters:\",u)\n",
    "    print(\"No.of lower case letters:\",l)\n",
    "function2(\"SuPArnika\")\n",
    "    "
   ]
  },
  {
   "cell_type": "markdown",
   "metadata": {},
   "source": [
    "### Task 15\n",
    "\n",
    "- Write a Python program to convert radian to degree with using math module"
   ]
  },
  {
   "cell_type": "code",
   "execution_count": 11,
   "metadata": {},
   "outputs": [
    {
     "name": "stdout",
     "output_type": "stream",
     "text": [
      "180.0\n",
      "59.99999999999999\n"
     ]
    }
   ],
   "source": [
    "import math\n",
    "print(math.degrees(math.pi))\n",
    "print(math.degrees(math.pi/3))"
   ]
  },
  {
   "cell_type": "code",
   "execution_count": null,
   "metadata": {},
   "outputs": [],
   "source": []
  }
 ],
 "metadata": {
  "kernelspec": {
   "display_name": "Python 3",
   "language": "python",
   "name": "python3"
  },
  "language_info": {
   "codemirror_mode": {
    "name": "ipython",
    "version": 3
   },
   "file_extension": ".py",
   "mimetype": "text/x-python",
   "name": "python",
   "nbconvert_exporter": "python",
   "pygments_lexer": "ipython3",
   "version": "3.7.6"
  }
 },
 "nbformat": 4,
 "nbformat_minor": 4
}
